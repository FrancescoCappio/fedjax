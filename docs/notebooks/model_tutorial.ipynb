{
  "cells": [
    {
      "cell_type": "markdown",
      "metadata": {
        "id": "ix7n_mL1BfQs"
      },
      "source": [
        "# Working with models in FedJAX.\n",
        "\n",
        "In this chapter, we will learn about `fedjax.Model`. This notebook assumes you already have finished the \"Datasets\" chapter. We first overview centralized training and evaluation with `fedjax.Model` and then describe how to add new neural architectures and specify additional evaluation metrics."
      ]
    },
    {
      "cell_type": "code",
      "execution_count": 4,
      "metadata": {
        "executionInfo": {
          "elapsed": 4,
          "status": "ok",
          "timestamp": 1623969152239,
          "user": {
            "displayName": "",
            "photoUrl": "",
            "userId": ""
          },
          "user_tz": 240
        },
        "id": "dyKDEkdrAMCL"
      },
      "outputs": [],
      "source": [
        "import itertools\n",
        "\n",
        "import jax\n",
        "import jax.numpy as jnp\n",
        "from jax.experimental import stax\n",
        "\n",
        "import fedjax"
      ]
    },
    {
      "cell_type": "markdown",
      "metadata": {
        "id": "-eJp5GU6t032"
      },
      "source": [
        "\n",
        "## Centralized training \u0026 evaluation with `fedjax.Model`\n",
        "\n",
        "Most federated learning algorithms are built upon common components from standard centralized learning. `fedjax.Model` holds these common components. In centralized learning, we are mostly concerned with two tasks:\n",
        "\n",
        "-   Training: We want to optimize our model parameters on the training dataset.\n",
        "-   Evaluation: We want to know the values of evaluation metrics (e.g. accuracy) of the current model parameters on a test dataset.\n",
        "\n",
        "Let's first see how we can carry out these two tasks on the [EMNIST](https://www.nist.gov/itl/products-and-services/emnist-dataset) dataset with `fedjax.Model`."
      ]
    },
    {
      "cell_type": "code",
      "execution_count": 5,
      "metadata": {
        "executionInfo": {
          "elapsed": 4,
          "status": "ok",
          "timestamp": 1623969154216,
          "user": {
            "displayName": "",
            "photoUrl": "",
            "userId": ""
          },
          "user_tz": 240
        },
        "id": "2zkLV40QuiFC",
        "outputId": "5e273431-fabb-470d-c033-d2527c35bf67"
      },
      "outputs": [
        {
          "name": "stderr",
          "output_type": "stream",
          "text": [
            "Reusing cached file '/tmp/.cache/fedjax/federated_emnist_train.sqlite'\n",
            "Reusing cached file '/tmp/.cache/fedjax/federated_emnist_test.sqlite'\n"
          ]
        }
      ],
      "source": [
        "# Load train/test splits of the EMNIST dataset.\n",
        "train, test = fedjax.datasets.emnist.load_data()\n",
        "\n",
        "# As a start, let's simply use a logistic regression model.\n",
        "model = fedjax.models.emnist.create_logistic_model()"
      ]
    },
    {
      "cell_type": "markdown",
      "metadata": {
        "id": "xNJVRZ5Nco5w"
      },
      "source": [
        "### Random initialization, the JAX way\n",
        "\n",
        "To start training, we need some randomly initialized parameters. In JAX, pseudo random number generation works slightly differently. For now, it is sufficient to know we call `jax.random.PRNGKey()` to seed the random number generator. JAX has a [detailed introduction](https://jax.readthedocs.io/en/latest/jax-101/05-random-numbers.html) on this topic, if you are interested.\n",
        "\n",
        "To create the initial model parameters, we simply call `fedjax.Model.init()` with a `PRNGKey`."
      ]
    },
    {
      "cell_type": "code",
      "execution_count": null,
      "metadata": {
        "id": "YWt_MHELREhq"
      },
      "outputs": [],
      "source": [
        "params_rng = jax.random.PRNGKey(0)\n",
        "params = model.init(params_rng)"
      ]
    },
    {
      "cell_type": "markdown",
      "metadata": {
        "id": "QV53yxngfUxs"
      },
      "source": [
        "Here are our initial model parameters. With the same `PRNGKey`, we will always get the same random initialization. There are 2 parameters in our model, the weights `w`, and the bias `b`. They are organized into a `FlapMapping`, but in general any [PyTree](https://jax.readthedocs.io/en/latest/pytrees.html) can be used to store model parameters."
      ]
    },
    {
      "cell_type": "code",
      "execution_count": 7,
      "metadata": {
        "executionInfo": {
          "elapsed": 57,
          "status": "ok",
          "timestamp": 1623969405338,
          "user": {
            "displayName": "",
            "photoUrl": "",
            "userId": ""
          },
          "user_tz": 240
        },
        "id": "Lrf3dsFDfMiQ",
        "outputId": "b462beb2-ed3a-4ddc-876e-d311924267a3"
      },
      "outputs": [
        {
          "data": {
            "text/plain": [
              "FlatMapping({\n",
              "  'linear': FlatMapping({\n",
              "              'b': DeviceArray([0., 0., 0., 0., 0., 0., 0., 0., 0., 0., 0., 0., 0., 0., 0.,\n",
              "                                0., 0., 0., 0., 0., 0., 0., 0., 0., 0., 0., 0., 0., 0., 0.,\n",
              "                                0., 0., 0., 0., 0., 0., 0., 0., 0., 0., 0., 0., 0., 0., 0.,\n",
              "                                0., 0., 0., 0., 0., 0., 0., 0., 0., 0., 0., 0., 0., 0., 0.,\n",
              "                                0., 0.], dtype=float32),\n",
              "              'w': DeviceArray([[-0.04067192,  0.02348135, -0.02148845, ...,  0.01055491,\n",
              "                                 -0.0698833 , -0.02952635],\n",
              "                                [-0.03985241, -0.03804361,  0.01401521, ...,  0.02281452,\n",
              "                                 -0.01771889,  0.06676882],\n",
              "                                [ 0.00098182, -0.00844628,  0.01303551, ..., -0.05299247,\n",
              "                                  0.01777618, -0.0006488 ],\n",
              "                                ...,\n",
              "                                [-0.05691819,  0.05192508,  0.01588602, ...,  0.0157204 ,\n",
              "                                 -0.01854116,  0.00297953],\n",
              "                                [ 0.01680703,  0.05579226,  0.04595828, ...,  0.01990349,\n",
              "                                 -0.0194403 , -0.0171014 ],\n",
              "                                [-0.00880738,  0.04229013,  0.00998938, ..., -0.00633441,\n",
              "                                 -0.04824609,  0.01395541]], dtype=float32),\n",
              "            }),\n",
              "})"
            ]
          },
          "execution_count": 7,
          "metadata": {
            "tags": []
          },
          "output_type": "execute_result"
        }
      ],
      "source": [
        "params"
      ]
    },
    {
      "cell_type": "markdown",
      "metadata": {
        "id": "ZIP-U4Q6ep6g"
      },
      "source": [
        "### Evaluating model parameters\n",
        "\n",
        "Before we start training, let's first see how our initial parameters fare on the train and test sets. Unsurprisingly, they do not do very well. We evaluate using the `fedjax.evaluate_model()` which takes in model, parameters, and datasets which are batched. As noted in the dataset tutorial, we batch using\n",
        "`fedjax.padded_batch_federated_data()` for efficiency. `fedjax.padded_batch_federated_data()` is very similar to `fedjax.ClientDataset.padded_batch()` but operates over the entire federated dataset."
      ]
    },
    {
      "cell_type": "code",
      "execution_count": 8,
      "metadata": {
        "executionInfo": {
          "elapsed": 333,
          "status": "ok",
          "timestamp": 1623969446457,
          "user": {
            "displayName": "",
            "photoUrl": "",
            "userId": ""
          },
          "user_tz": 240
        },
        "id": "gJwZvLswgjTg",
        "outputId": "3164877f-8329-45d5-8c39-a4ab2f71be9a"
      },
      "outputs": [
        {
          "name": "stdout",
          "output_type": "stream",
          "text": [
            "eval_test {'accuracy': DeviceArray(0.01757812, dtype=float32), 'loss': DeviceArray(4.1253357, dtype=float32)}\n",
            "eval_train {'accuracy': DeviceArray(0.02490234, dtype=float32), 'loss': DeviceArray(4.116222, dtype=float32)}\n"
          ]
        }
      ],
      "source": [
        "# We select first 16 batches using itertools.islice.\n",
        "batched_test_data = list(itertools.islice(\n",
        "    fedjax.padded_batch_federated_data(test, batch_size=128), 16))\n",
        "batched_train_data = list(itertools.islice(\n",
        "    fedjax.padded_batch_federated_data(train, batch_size=128), 16))\n",
        "\n",
        "print('eval_test', fedjax.evaluate_model(model, params, batched_test_data))\n",
        "print('eval_train', fedjax.evaluate_model(model, params, batched_train_data))"
      ]
    },
    {
      "cell_type": "markdown",
      "metadata": {
        "id": "qxro4lXqiDk1"
      },
      "source": [
        "How does our model know what evaluation metrics to report? It is simply specified in the `eval_metrics` field. We will discuss evaluation metrics in more detail later."
      ]
    },
    {
      "cell_type": "code",
      "execution_count": 9,
      "metadata": {
        "executionInfo": {
          "elapsed": 3,
          "status": "ok",
          "timestamp": 1623969454182,
          "user": {
            "displayName": "",
            "photoUrl": "",
            "userId": ""
          },
          "user_tz": 240
        },
        "id": "pdypCf-HineS",
        "outputId": "9618c57c-718d-40d7-9137-a038ce9e64f6"
      },
      "outputs": [
        {
          "data": {
            "text/plain": [
              "{'loss': CrossEntropyLoss(target_key='y', pred_key=None),\n",
              " 'accuracy': Accuracy(target_key='y', pred_key=None)}"
            ]
          },
          "execution_count": 9,
          "metadata": {
            "tags": []
          },
          "output_type": "execute_result"
        }
      ],
      "source": [
        "model.eval_metrics"
      ]
    },
    {
      "cell_type": "markdown",
      "metadata": {
        "id": "Av2qThtek5eU"
      },
      "source": [
        "Since `fedjax.evaluate_model()` simply takes a stream of batches, we can also use it to evaluate multiple clients."
      ]
    },
    {
      "cell_type": "code",
      "execution_count": 10,
      "metadata": {
        "executionInfo": {
          "elapsed": 55,
          "status": "ok",
          "timestamp": 1623969468839,
          "user": {
            "displayName": "",
            "photoUrl": "",
            "userId": ""
          },
          "user_tz": 240
        },
        "id": "rlwA9v2flAMV",
        "outputId": "503d7628-c3e5-4279-d54c-41b21f8059c8"
      },
      "outputs": [
        {
          "name": "stdout",
          "output_type": "stream",
          "text": [
            "b'002d084c082b8586:f0185_23' {'accuracy': DeviceArray(0.05, dtype=float32), 'loss': DeviceArray(4.1247387, dtype=float32)}\n",
            "b'005fdad281234bc0:f0151_02' {'accuracy': DeviceArray(0.09375, dtype=float32), 'loss': DeviceArray(4.0939636, dtype=float32)}\n",
            "b'014c177da5b15a39:f1565_04' {'accuracy': DeviceArray(0., dtype=float32), 'loss': DeviceArray(4.1277504, dtype=float32)}\n",
            "b'0156df0c34a25944:f3772_10' {'accuracy': DeviceArray(0.05263158, dtype=float32), 'loss': DeviceArray(4.1521053, dtype=float32)}\n"
          ]
        }
      ],
      "source": [
        "for client_id, dataset in itertools.islice(test.clients(), 4):\n",
        "  print(\n",
        "      client_id,\n",
        "      fedjax.evaluate_model(model, params,\n",
        "                            dataset.padded_batch(batch_size=128)))"
      ]
    },
    {
      "cell_type": "markdown",
      "metadata": {
        "id": "zyvylBo10BQe"
      },
      "source": [
        "### The training objective\n",
        "\n",
        "To train our model, we need two things: the objective function to minimize and an optimizer.\n",
        "\n",
        "`fedjax.Model` contains two functions that can be used to arrive at the training objective:\n",
        "\n",
        "-   `apply_for_train(params, batch_example, rng)` takes the current model parameters, a batch of examples, and a `PRNGKey`, and returns some output.\n",
        "-   `train_loss(batch_example, train_output)` translates the output of `apply_for_train()` into a vector of per-example loss values.\n",
        "\n",
        "In our example model, `apply_for_train()` produces a score for each class and `train_loss()` is simply the cross entropy loss. `apply_for_train()` in this case does not make use of a `PRNGKey`, so we can pass `None` instead for convenience. A different `apply_for_train()` might actually make use of the `PRNGKey`, for tasks such as dropout. "
      ]
    },
    {
      "cell_type": "code",
      "execution_count": 11,
      "metadata": {
        "executionInfo": {
          "elapsed": 237,
          "status": "ok",
          "timestamp": 1623969557094,
          "user": {
            "displayName": "",
            "photoUrl": "",
            "userId": ""
          },
          "user_tz": 240
        },
        "id": "gM6Kgcgx23nN",
        "outputId": "e3de02aa-aa79-440e-ec83-943d71cc873b"
      },
      "outputs": [
        {
          "data": {
            "text/plain": [
              "((8, 62), DeviceArray([4.0336375, 4.046037 , 3.94472  , 3.9324744, 4.116581 ,\n",
              "              4.2097993, 4.061009 , 4.198982 ], dtype=float32))"
            ]
          },
          "execution_count": 11,
          "metadata": {
            "tags": []
          },
          "output_type": "execute_result"
        }
      ],
      "source": [
        "# train_batches is an infinite stream of shuffled batches of examples.\n",
        "def train_batches():\n",
        "  return fedjax.shuffle_repeat_batch_federated_data(\n",
        "      train,\n",
        "      batch_size=8,\n",
        "      client_buffer_size=16,\n",
        "      example_buffer_size=1024,\n",
        "      seed=0)\n",
        "\n",
        "\n",
        "# We obtain the first batch by using the `next` function.\n",
        "example = next(train_batches())\n",
        "output = model.apply_for_train(params, example, None)\n",
        "per_example_loss = model.train_loss(example, output)\n",
        "\n",
        "output.shape, per_example_loss"
      ]
    },
    {
      "cell_type": "markdown",
      "metadata": {
        "id": "o_SeJCPV495_"
      },
      "source": [
        "Note that the `output` is per example predictions and has shape (8, 62), where 8 is the batch size and 62 is the number of classes. Alternatively, we can use `model_per_example_loss()` to get a function that gives us the same result. `model_per_example_loss()` is a convenience function that does exactly what we just did."
      ]
    },
    {
      "cell_type": "code",
      "execution_count": 12,
      "metadata": {
        "executionInfo": {
          "elapsed": 57,
          "status": "ok",
          "timestamp": 1623969599000,
          "user": {
            "displayName": "",
            "photoUrl": "",
            "userId": ""
          },
          "user_tz": 240
        },
        "id": "ZerxAt2E5E51",
        "outputId": "8d53a024-c782-400e-b551-523991884bf8"
      },
      "outputs": [
        {
          "data": {
            "text/plain": [
              "DeviceArray([4.0336375, 4.046037 , 3.94472  , 3.9324744, 4.116581 ,\n",
              "             4.2097993, 4.061009 , 4.198982 ], dtype=float32)"
            ]
          },
          "execution_count": 12,
          "metadata": {
            "tags": []
          },
          "output_type": "execute_result"
        }
      ],
      "source": [
        "per_example_loss_fn = fedjax.model_per_example_loss(model)\n",
        "per_example_loss_fn(params, example, None)"
      ]
    },
    {
      "cell_type": "markdown",
      "metadata": {
        "id": "mMZOJ5jf7qUI"
      },
      "source": [
        "The training objective is a scalar, so why does `train_loss()` return a vector of per-example loss values? First of all, the training objective in most cases is just the average of the per-example loss values, so arriving at the final training objective isn't hard. Moreover, in certain algorithms, we not only use the train loss over a single batch of examples for a stochastic training step, but also need to estimate the average train loss over an entire (client) dataset. Having the per-example loss values there is instrumental in obtaining the correct estimate when the batch sizes may vary."
      ]
    },
    {
      "cell_type": "code",
      "execution_count": 13,
      "metadata": {
        "executionInfo": {
          "elapsed": 199,
          "status": "ok",
          "timestamp": 1623969624344,
          "user": {
            "displayName": "",
            "photoUrl": "",
            "userId": ""
          },
          "user_tz": 240
        },
        "id": "rFJJLPd-84hV",
        "outputId": "0dca5abf-f3da-4b04-fd68-9b2a750d591d"
      },
      "outputs": [
        {
          "data": {
            "text/plain": [
              "DeviceArray(4.067905, dtype=float32)"
            ]
          },
          "execution_count": 13,
          "metadata": {
            "tags": []
          },
          "output_type": "execute_result"
        }
      ],
      "source": [
        "def train_objective(params, example):\n",
        "  return jnp.mean(per_example_loss_fn(params, example, None))\n",
        "\n",
        "train_objective(params, example)"
      ]
    },
    {
      "cell_type": "markdown",
      "metadata": {
        "id": "_iZ2Gyi5ivfL"
      },
      "source": [
        "### Optimizers\n",
        "\n",
        "With the training objective at hand, we just need an optimizer to find some good model parameters that minimize it.\n",
        "\n",
        "There are many optimizer implementations in JAX out there, but FedJAX doesn't force one choice over any other. Instead, FedJAX provides a simple `fedjax.optimizers.Optimizer` interface so a new optimizer implementation can be wrapped. For convenience, FedJAX provides some common optimizers wrapped from [optax](https://github.com/deepmind/optax)."
      ]
    },
    {
      "cell_type": "code",
      "execution_count": 14,
      "metadata": {
        "executionInfo": {
          "elapsed": 201,
          "status": "ok",
          "timestamp": 1623969679330,
          "user": {
            "displayName": "",
            "photoUrl": "",
            "userId": ""
          },
          "user_tz": 240
        },
        "id": "AWt8diTVire5"
      },
      "outputs": [],
      "source": [
        "optimizer = fedjax.optimizers.adam(1e-3)"
      ]
    },
    {
      "cell_type": "markdown",
      "metadata": {
        "id": "ye3zAOiPkAJW"
      },
      "source": [
        "An optimizer is simply a pair of two functions:\n",
        "\n",
        "-   `init(params)` returns the initial optimizer state, such as initial values for accumulators of gradients.\n",
        "-   `apply(grads, opt_state, params)` applies the gradients to update the current optimizer state and model parameters.\n",
        "\n",
        "Instead of modifying `opt_state` or `params`, `apply()` returns a new pair of optimizer state and model parameters. In JAX, it is common to express computations in this stateless/mutation free style, often referred to as [functional programming](https://jax.readthedocs.io/en/latest/glossary.html#term-functional-programming), or [pure functions](https://jax.readthedocs.io/en/latest/glossary.html#term-pure-function). The pureness of functions is crucial to many features in JAX, so it is always good practice to write functions that do not modify its inputs. You have probably also noticed that all the functions of `fedjax.Model` we have seen so far do not modify the model object itself (for example, `init()` returns model parameters instead of setting some attribute of `model`; `apply_for_train()` takes model parameters as an input argument, instead of getting it from `model`). FedJAX does this to keep all functions pure.\n",
        "\n",
        "However, in the top level training loop, it is fine to mutate states since we are not in a function that may be transformed by JAX. Let's run our first training step, which resulted in a slight decrease in objective on the same batch of examples.\n",
        "\n",
        "To obtain the gradients, we use `jax.grad()` which returns the gradient function. More details about `jax.grad()` can be found from the [JAX documentation](https://jax.readthedocs.io/en/latest/notebooks/quickstart.html). "
      ]
    },
    {
      "cell_type": "code",
      "execution_count": 15,
      "metadata": {
        "executionInfo": {
          "elapsed": 285,
          "status": "ok",
          "timestamp": 1623969903115,
          "user": {
            "displayName": "",
            "photoUrl": "",
            "userId": ""
          },
          "user_tz": 240
        },
        "id": "DQqZL48H9hLS",
        "outputId": "a4134376-8214-4976-eff2-b890d053c19c"
      },
      "outputs": [
        {
          "data": {
            "text/plain": [
              "DeviceArray(4.0078793, dtype=float32)"
            ]
          },
          "execution_count": 15,
          "metadata": {
            "tags": []
          },
          "output_type": "execute_result"
        }
      ],
      "source": [
        "opt_state = optimizer.init(params)\n",
        "grads = jax.grad(train_objective)(params, example)\n",
        "opt_state, params = optimizer.apply(grads, opt_state, params)\n",
        "train_objective(params, example)"
      ]
    },
    {
      "cell_type": "markdown",
      "metadata": {
        "id": "B-UhOMAvcq3b"
      },
      "source": [
        "Instead of using `jax.grad()` directly, FedJAX also provides a convenient `fedjax.model_grad()` which computes the gradient of a model with respect to the averaged `fedjax.model_per_example_loss()`."
      ]
    },
    {
      "cell_type": "code",
      "execution_count": 16,
      "metadata": {
        "executionInfo": {
          "elapsed": 214,
          "status": "ok",
          "timestamp": 1623969921942,
          "user": {
            "displayName": "",
            "photoUrl": "",
            "userId": ""
          },
          "user_tz": 240
        },
        "id": "yTBq-bNMcqM-",
        "outputId": "38acb25c-6713-4641-efd3-bc16994f61fa"
      },
      "outputs": [
        {
          "data": {
            "text/plain": [
              "DeviceArray(3.9480827, dtype=float32)"
            ]
          },
          "execution_count": 16,
          "metadata": {
            "tags": []
          },
          "output_type": "execute_result"
        }
      ],
      "source": [
        "model_grads = fedjax.model_grad(model)(params, example, None)\n",
        "opt_state, params = optimizer.apply(grads, opt_state, params)\n",
        "train_objective(params, example)"
      ]
    },
    {
      "cell_type": "markdown",
      "metadata": {
        "id": "ticoulv4_C1u"
      },
      "source": [
        "Let's wrap everything into a single JIT compiled function and train a few more steps, and evaluate again."
      ]
    },
    {
      "cell_type": "code",
      "execution_count": 17,
      "metadata": {
        "executionInfo": {
          "elapsed": 1585,
          "status": "ok",
          "timestamp": 1623969926968,
          "user": {
            "displayName": "",
            "photoUrl": "",
            "userId": ""
          },
          "user_tz": 240
        },
        "id": "eUKwW0zs-yLG",
        "outputId": "6cff8e69-3140-4a0d-9282-2d0f93ccece2"
      },
      "outputs": [
        {
          "name": "stdout",
          "output_type": "stream",
          "text": [
            "eval_test {'accuracy': DeviceArray(0.61621094, dtype=float32), 'loss': DeviceArray(1.5558872, dtype=float32)}\n",
            "eval_train {'accuracy': DeviceArray(0.59716797, dtype=float32), 'loss': DeviceArray(1.6274736, dtype=float32)}\n"
          ]
        }
      ],
      "source": [
        "@jax.jit\n",
        "def train_step(example, opt_state, params):\n",
        "  grads = jax.grad(train_objective)(params, example)\n",
        "  return optimizer.apply(grads, opt_state, params)\n",
        "\n",
        "for example in itertools.islice(train_batches(), 5000):\n",
        "  opt_state, params = train_step(example, opt_state, params)\n",
        "\n",
        "print('eval_test', fedjax.evaluate_model(model, params, batched_test_data))\n",
        "print('eval_train', fedjax.evaluate_model(model, params, batched_train_data))"
      ]
    },
    {
      "cell_type": "markdown",
      "metadata": {
        "id": "NtjGbx-jCejU"
      },
      "source": [
        "## Building a custom model\n",
        "\n",
        "`fedjax.Model` was designed with customization in mind. We have already seen how to switch to a different training loss. In this section, we will discuss how the rest of a `fedjax.Model` can be customized."
      ]
    },
    {
      "cell_type": "markdown",
      "metadata": {
        "id": "js0vCut_dx7B"
      },
      "source": [
        "### Training loss"
      ]
    },
    {
      "cell_type": "markdown",
      "metadata": {
        "id": "1LGUk6_a5P7d"
      },
      "source": [
        "Because `train_loss()` is separate from `apply_for_train()`, it is easy to switch to a different loss function."
      ]
    },
    {
      "cell_type": "code",
      "execution_count": 18,
      "metadata": {
        "executionInfo": {
          "elapsed": 54,
          "status": "ok",
          "timestamp": 1623969953157,
          "user": {
            "displayName": "",
            "photoUrl": "",
            "userId": ""
          },
          "user_tz": 240
        },
        "id": "vq6EXir-6DZ4",
        "outputId": "711c3516-f6af-43a5-99b1-427602c75eb2"
      },
      "outputs": [
        {
          "data": {
            "text/plain": [
              "DeviceArray([4.3115616 , 0.        , 0.        , 0.43959057, 0.970716  ,\n",
              "             0.        , 0.3054253 , 1.3923659 ], dtype=float32)"
            ]
          },
          "execution_count": 18,
          "metadata": {
            "tags": []
          },
          "output_type": "execute_result"
        }
      ],
      "source": [
        "def hinge_loss(example, output):\n",
        "  label = example['y']\n",
        "  num_classes = output.shape[-1]\n",
        "  mask = jax.nn.one_hot(label, num_classes)\n",
        "  label_score = jnp.sum(output * mask, axis=-1)\n",
        "  best_score = jnp.max(output + 1 - mask, axis=-1)\n",
        "  return best_score - label_score\n",
        "\n",
        "\n",
        "hinge_model = model.replace(train_loss=hinge_loss)\n",
        "fedjax.model_per_example_loss(hinge_model)(params, example, None)"
      ]
    },
    {
      "cell_type": "markdown",
      "metadata": {
        "id": "89IVhp9FKo09"
      },
      "source": [
        "### Evaluation metrics\n",
        "\n",
        "We have already seen that the `eval_metrics` field of a `fedjax.Model` tells the model what metrics to evaluate. `eval_metrics` is a mapping from metric names to `fedjax.metrics.Metric` objects. A `fedjax.metrics.Metric` object tells us how to calculate a metric's value from multiple batches of examples. Like `fedjax.Model`, a `fedjax.metrics.Metric` is stateless.\n",
        "\n",
        "To customize the metrics to evaluate on, or what names to give to each, simply specify a different mapping."
      ]
    },
    {
      "cell_type": "code",
      "execution_count": 19,
      "metadata": {
        "executionInfo": {
          "elapsed": 233,
          "status": "ok",
          "timestamp": 1623970096911,
          "user": {
            "displayName": "",
            "photoUrl": "",
            "userId": ""
          },
          "user_tz": 240
        },
        "id": "UeBMvbyNCdyL",
        "outputId": "5006e799-efe8-4e62-d352-0d2b7bbf76a8"
      },
      "outputs": [
        {
          "data": {
            "text/plain": [
              "{'accuracy': DeviceArray(0.61621094, dtype=float32)}"
            ]
          },
          "execution_count": 19,
          "metadata": {
            "tags": []
          },
          "output_type": "execute_result"
        }
      ],
      "source": [
        "only_accuracy = model.replace(\n",
        "    eval_metrics={'accuracy': fedjax.metrics.Accuracy()})\n",
        "fedjax.evaluate_model(only_accuracy, params, batched_test_data)"
      ]
    },
    {
      "cell_type": "markdown",
      "metadata": {
        "id": "W8EBiEBPQxz6"
      },
      "source": [
        "There are already some concrete `Metric`s in `fedjax.metrics`. It is also easy to implement a new one. You can read more about how to implement a `Metric` in [its own introduction](https://fedjax.readthedocs.io/en/latest/fedjax.metrics.html).\n",
        "\n",
        "The bit of `fedjax.Model` that is directly relevant to evaluation is `apply_for_eval()`. The relation between `apply_for_eval()` and an evaluation metric is similar to that between `apply_for_train()` and `train_loss()`: `apply_for_eval(params, example)` takes the model parameters and a batch of examples (notice there is no randomness in evaluation so we don't need a `PRNGKey`), and produces some prediction that evaluation metrics can consume. In our example, the outputs from `apply_for_eval()` and `apply_for_train()` are identical, but they don't have to be."
      ]
    },
    {
      "cell_type": "code",
      "execution_count": 22,
      "metadata": {
        "executionInfo": {
          "elapsed": 56,
          "status": "ok",
          "timestamp": 1623970274735,
          "user": {
            "displayName": "",
            "photoUrl": "",
            "userId": ""
          },
          "user_tz": 240
        },
        "id": "gWWsQw8-Tu6s",
        "outputId": "9fd25205-799f-4068-9976-8ce147318810"
      },
      "outputs": [
        {
          "data": {
            "text/plain": [
              "DeviceArray(True, dtype=bool)"
            ]
          },
          "execution_count": 22,
          "metadata": {
            "tags": []
          },
          "output_type": "execute_result"
        }
      ],
      "source": [
        "jnp.all(\n",
        "    model.apply_for_train(params, example, None) == model.apply_for_eval(\n",
        "        params, example))"
      ]
    },
    {
      "cell_type": "markdown",
      "metadata": {
        "id": "yMt-xoqoUFVS"
      },
      "source": [
        "What `apply_for_eval()` needs to produce really just depends on what evaluation `fedjax.metrics.Metric`s will be used. In our case, we are using `fedjax.metrics.Accuracy`, and `fedjax.metrics.CrossEntropyLoss`. They are similar in their requirements on the inputs:\n",
        "\n",
        "-   They both need to know the true label from the `example`, using a `target_key` that defaults to `\"y\"`.\n",
        "-   They both need to know the predicted scores from `apply_for_eval()`, customizable as `pred_key`. If `pred_key` is None, `apply_for_eval()` should return just a vector of per-class scores; otherwise `pred_key` can be a string key, and `apply_for_eval()` should return a mapping (e.g. `dict`) that maps the key to a vector of per-class scores."
      ]
    },
    {
      "cell_type": "code",
      "execution_count": 21,
      "metadata": {
        "executionInfo": {
          "elapsed": 197,
          "status": "ok",
          "timestamp": 1623970272680,
          "user": {
            "displayName": "",
            "photoUrl": "",
            "userId": ""
          },
          "user_tz": 240
        },
        "id": "4nJPFkozVb1S",
        "outputId": "2fd98004-40ed-4e98-981c-f0964620612c"
      },
      "outputs": [
        {
          "data": {
            "text/plain": [
              "Accuracy(target_key='y', pred_key=None)"
            ]
          },
          "execution_count": 21,
          "metadata": {
            "tags": []
          },
          "output_type": "execute_result"
        }
      ],
      "source": [
        "fedjax.metrics.Accuracy()"
      ]
    },
    {
      "cell_type": "markdown",
      "metadata": {
        "id": "cWbn6osiVl9O"
      },
      "source": [
        "### Neural network architectures\n",
        "\n",
        "We have now covered all five parts of a `fedjax.Model`, namely `init()`, `apply_for_train()`, `apply_for_eval()`, `train_loss()`, and `eval_metrics`. `train_loss()` and `eval_metrics` are easy to customize since they are mostly agnostic to the actual neural network architecture of the model. `init()`, `apply_for_train()`, and `apply_for_eval()` on the other hand, are closely related.\n",
        "\n",
        "In principle, as long as these three functions meet the interface we have seen so far, they can be used to build a custom model. Let's try to build a model that uses multi-layer perceptron and hinge loss."
      ]
    },
    {
      "cell_type": "code",
      "execution_count": 23,
      "metadata": {
        "executionInfo": {
          "elapsed": 2267,
          "status": "ok",
          "timestamp": 1623970278577,
          "user": {
            "displayName": "",
            "photoUrl": "",
            "userId": ""
          },
          "user_tz": 240
        },
        "id": "yc58iPxzWkHV",
        "outputId": "9256ccfc-c96f-445d-ca50-d6faafd3d8b1"
      },
      "outputs": [
        {
          "name": "stdout",
          "output_type": "stream",
          "text": [
            "eval_test before training: {'accuracy': DeviceArray(0.05078125, dtype=float32)}\n",
            "eval_test after training: {'accuracy': DeviceArray(0.49951172, dtype=float32)}\n"
          ]
        }
      ],
      "source": [
        "def cross_entropy_loss(example, output):\n",
        "  label = example['y']\n",
        "  num_classes = output.shape[-1]\n",
        "  mask = jax.nn.one_hot(label, num_classes)\n",
        "  return -jnp.sum(jax.nn.log_softmax(output) * mask, axis=-1)\n",
        "\n",
        "def mlp_model(num_input_units, num_units, num_classes):\n",
        "\n",
        "  def mlp_init(rng):\n",
        "    w0_rng, w1_rng = jax.random.split(rng)\n",
        "    w0 = jax.random.uniform(w0_rng, [num_input_units, num_units])\n",
        "    b0 = jnp.zeros([num_units])\n",
        "    w1 = jax.random.uniform(w1_rng, [num_units, num_classes])\n",
        "    b1 = jnp.zeros([num_classes])\n",
        "    return w0, b0, w1, b1\n",
        "\n",
        "  def mlp_apply(params, batch, rng=None):\n",
        "    w0, b0, w1, b1 = params\n",
        "    x = batch['x']\n",
        "    batch_size = x.shape[0]\n",
        "    h = jax.nn.relu(x.reshape([batch_size, -1]) @ w0 + b0)\n",
        "    return h @ w1 + b1\n",
        "\n",
        "  return fedjax.Model(\n",
        "      init=mlp_init,\n",
        "      apply_for_train=mlp_apply,\n",
        "      apply_for_eval=mlp_apply,\n",
        "      train_loss=cross_entropy_loss,\n",
        "      eval_metrics={'accuracy': fedjax.metrics.Accuracy()})\n",
        "\n",
        "\n",
        "# There are 28*28 input pixels, and 62 classes in EMNIST.\n",
        "mlp = mlp_model(28 * 28, 128, 62)\n",
        "\n",
        "@jax.jit\n",
        "def mlp_train_step(example, opt_state, params):\n",
        "\n",
        "  @jax.grad\n",
        "  def grad_fn(params, example):\n",
        "    return jnp.mean(fedjax.model_per_example_loss(mlp)(params, example, None))\n",
        "\n",
        "  grads = grad_fn(params, example)\n",
        "  return optimizer.apply(grads, opt_state, params)\n",
        "\n",
        "\n",
        "params = mlp.init(jax.random.PRNGKey(0))\n",
        "opt_state = optimizer.init(params)\n",
        "print('eval_test before training:',\n",
        "      fedjax.evaluate_model(mlp, params, batched_test_data))\n",
        "for example in itertools.islice(train_batches(), 5000):\n",
        "  opt_state, params = mlp_train_step(example, opt_state, params)\n",
        "print('eval_test after training:',\n",
        "      fedjax.evaluate_model(mlp, params, batched_test_data))"
      ]
    },
    {
      "cell_type": "markdown",
      "metadata": {
        "id": "yFdiYhzlboVB"
      },
      "source": [
        "While writing custom neural network architectures from scratch is possible, most of the time, it is much more convenient to use a neural network library such as [Haiku](https://github.com/deepmind/dm-haiku) or [`jax.experimental.stax`](https://jax.readthedocs.io/en/latest/jax.experimental.stax.html). The two functions `fedjax.create_model_from_haiku` and `fedjax.create_model_from_stax` can convert a neural network expressed in the respective framework into a `fedjax.Model`. Let's build a convolutional network using `jax.experimental.stax` this time."
      ]
    },
    {
      "cell_type": "code",
      "execution_count": 24,
      "metadata": {
        "executionInfo": {
          "elapsed": 5748,
          "status": "ok",
          "timestamp": 1623970325265,
          "user": {
            "displayName": "",
            "photoUrl": "",
            "userId": ""
          },
          "user_tz": 240
        },
        "id": "22Ls5ZFhcXFO",
        "outputId": "8e074669-68fa-4769-8184-c2b281c8fdc3"
      },
      "outputs": [
        {
          "name": "stdout",
          "output_type": "stream",
          "text": [
            "eval_test before training: {'accuracy': DeviceArray(0.03076172, dtype=float32)}\n",
            "eval_test after training: {'accuracy': DeviceArray(0.7314453, dtype=float32)}\n"
          ]
        }
      ],
      "source": [
        "def stax_cnn_model(input_shape, num_classes):\n",
        "  stax_init, stax_apply = stax.serial(\n",
        "      stax.Conv(\n",
        "          out_chan=64, filter_shape=(3, 3), strides=(1, 1), padding='SAME'),\n",
        "      stax.Relu,\n",
        "      stax.Flatten,\n",
        "      stax.Dense(256),\n",
        "      stax.Relu,\n",
        "      stax.Dense(num_classes),\n",
        "  )\n",
        "  return fedjax.create_model_from_stax(\n",
        "      stax_init=stax_init,\n",
        "      stax_apply=stax_apply,\n",
        "      sample_shape=input_shape,\n",
        "      train_loss=cross_entropy_loss,\n",
        "      eval_metrics={'accuracy': fedjax.metrics.Accuracy()})\n",
        "\n",
        "\n",
        "stax_cnn = stax_cnn_model([-1, 28, 28, 1], 62)\n",
        "\n",
        "\n",
        "@jax.jit\n",
        "def stax_cnn_train_step(example, opt_state, params):\n",
        "\n",
        "  @jax.grad\n",
        "  def grad_fn(params, example):\n",
        "    return jnp.mean(\n",
        "        fedjax.model_per_example_loss(stax_cnn)(params, example, None))\n",
        "\n",
        "  grads = grad_fn(params, example)\n",
        "  return optimizer.apply(grads, opt_state, params)\n",
        "\n",
        "\n",
        "params = stax_cnn.init(jax.random.PRNGKey(0))\n",
        "opt_state = optimizer.init(params)\n",
        "print('eval_test before training:',\n",
        "      fedjax.evaluate_model(stax_cnn, params, batched_test_data))\n",
        "for example in itertools.islice(train_batches(), 1000):\n",
        "  opt_state, params = stax_cnn_train_step(example, opt_state, params)\n",
        "print('eval_test after training:',\n",
        "      fedjax.evaluate_model(stax_cnn, params, batched_test_data))"
      ]
    },
    {
      "cell_type": "markdown",
      "metadata": {
        "id": "kG1m1Qn_Cocn"
      },
      "source": [
        "## Recap\n",
        "\n",
        "In this chapter, we have covered the following:\n",
        "\n",
        "-   Components of `fedjax.Model`: `init()`, `apply_for_train()`, `apply_for_eval()`, `train_loss()`, and `eval_metrics`.\n",
        "-   Optimizers in `fedjax.optimizers`.\n",
        "-   Standard centralized learning with a `fedjax.Model`.\n",
        "-   Specifying evaluation metrics in `eval_metrics`.\n",
        "-   Building a custom `fedjax.Model`."
      ]
    }
  ],
  "metadata": {
    "colab": {
      "collapsed_sections": [],
      "last_runtime": {
        "build_target": "",
        "kind": "local"
      },
      "name": "model_tutorial.ipynb",
      "provenance": [
        {
          "file_id": "1RyJCDzMv3qs-3DsCTDcb--_UDgUz9gG3",
          "timestamp": 1623874921648
        },
        {
          "file_id": "1Aojsnaxcom8pEKme6JFDuDklPwjNDzUE",
          "timestamp": 1622755811665
        }
      ],
      "toc_visible": true
    },
    "kernelspec": {
      "display_name": "Python 3",
      "name": "python3"
    },
    "language_info": {
      "name": "python"
    }
  },
  "nbformat": 4,
  "nbformat_minor": 0
}
