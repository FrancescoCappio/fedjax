{
  "cells": [
    {
      "cell_type": "code",
      "execution_count": null,
      "metadata": {
        "id": "iRWNysIeLUEX"
      },
      "outputs": [],
      "source": [
        "import fedjax\n",
        "import jax\n",
        "from jax import jit\n",
        "import jax.numpy as jnp\n",
        "import matplotlib.pyplot as plt\n",
        "import numpy as np\n",
        "import pandas as pd\n",
        "import tensorflow as tf\n",
        "import time\n",
        "from typing import NamedTuple\n",
        "\n",
        "fedjax.training.set_tf_cpu_only()\n",
        "\n",
        "# To disable jit, use 'with jax.disable_jit():'\n",
        "For example,\n",
        "# jax.jit\n",
        "# def f(x):\n",
        "#   print(x)\n",
        "#   return jnp.sum(x)\n",
        "\n",
        "# x = jnp.ones([])\n",
        "\n",
        "# print('jit enabled')\n",
        "# for _ in range(10):\n",
        "#   f(x)\n",
        "\n",
        "# print('jit disabled')\n",
        "# with jax.disable_jit():\n",
        "#   for _ in range(10):\n",
        "#     f(x)"
      ]
    },
    {
      "cell_type": "code",
      "execution_count": null,
      "metadata": {
        "colab": {
          "height": 298
        },
        "executionInfo": {
          "elapsed": 12248,
          "status": "ok",
          "timestamp": 1616528760037,
          "user": {
            "displayName": "Ananda Theertha Suresh",
            "photoUrl": "https://lh3.googleusercontent.com/a-/AOh14Gg4ASQTNeiZMOUYQV5omqHOEMPHCXIdMIakUjAUaA=s64",
            "userId": "18398203347691939060"
          },
          "user_tz": 240
        },
        "id": "kp-iACjELyob",
        "outputId": "28329911-a3b1-47f2-f56c-bf54d06c9fb2"
      },
      "outputs": [
        {
          "data": {
            "text/plain": [
              "\u003cmatplotlib.image.AxesImage at 0x7fb2ee40a2e8\u003e"
            ]
          },
          "execution_count": 2,
          "metadata": {
            "tags": []
          },
          "output_type": "execute_result"
        },
        {
          "data": {
            "image/png": "[encoded data removed]",
            "text/plain": [
              "\u003cFigure size 600x400 with 1 Axes\u003e"
            ]
          },
          "metadata": {
            "tags": []
          },
          "output_type": "display_data"
        }
      ],
      "source": [
        "# Load the model and the data.\n",
        "model = fedjax.models.emnist.create_conv_model(only_digits=False)\n",
        "train, test = fedjax.datasets.emnist.load_data(only_digits=False,\n",
        "                                               cache_dir='/tmp/emnist_data')\n",
        "# Print a single client data to verify data is loaded.\n",
        "example_client_id = 'f0000_14'\n",
        "single_client_data = train.create_tf_dataset_for_client(example_client_id)\n",
        "numpy_client_data = list(single_client_data.as_numpy_iterator())\n",
        "pixels = numpy_client_data[0]['x']\n",
        "label = numpy_client_data[0]['y']\n",
        "plt.title(f'{label}')\n",
        "plt.imshow(pixels.reshape(28, 28))"
      ]
    },
    {
      "cell_type": "code",
      "execution_count": null,
      "metadata": {
        "id": "8s30qnrML6t9"
      },
      "outputs": [],
      "source": [
        "# Define federated algorithm.\n",
        "\n",
        "Model = fedjax.Model\n",
        "Params = fedjax.Params\n",
        "OptState = fedjax.OptState\n",
        "Optimizer = fedjax.Optimizer\n",
        "\n",
        "class FedAvgServerState(NamedTuple):\n",
        "  params: Params\n",
        "  opt_state: OptState\n",
        "\n",
        "class SimpleFedAvg():\n",
        "\n",
        "  def __init__(self,\n",
        "               model: Model,\n",
        "               client_optimizer: Optimizer,\n",
        "               server_optimizer: Optimizer,\n",
        "               client_batch_size: int):\n",
        "    self.model = model\n",
        "    self.client_optimizer = client_optimizer\n",
        "    self.server_optimizer = server_optimizer\n",
        "    self.client_batch_size = client_batch_size\n",
        "  \n",
        "  def client_update(self, server_state, client_data):\n",
        "    params = server_state.params\n",
        "    opt_state = self.client_optimizer.init_fn(params)\n",
        "    num_examples = 0.\n",
        "    rng_seq = fedjax.PRNGSequence(0)\n",
        "    for batch, rng in zip(client_data, rng_seq):\n",
        "      backward_pass_output = self.model.backward_pass(params, batch, rng)\n",
        "      grads = backward_pass_output.grads\n",
        "      updates, opt_state = self.client_optimizer.update_fn(grads, opt_state)\n",
        "      params = self.client_optimizer.apply_updates(updates, params)\n",
        "      num_examples += backward_pass_output.num_examples\n",
        "    delta = jax.tree_util.tree_multimap(lambda a, b: a - b, \n",
        "                                        server_state.params,\n",
        "                                        params)\n",
        "    return delta, num_examples\n",
        "\n",
        "  def server_update(self, server_state, client_outputs):\n",
        "    weighted_averaged_delta = fedjax.tree_mean(client_outputs)\n",
        "    updates, opt_state = server_optimizer.update_fn(weighted_averaged_delta,\n",
        "                                                    server_state.opt_state)\n",
        "    params = server_optimizer.apply_updates(updates, server_state.params)\n",
        "    return FedAvgServerState(params, opt_state)\n",
        "\n",
        "  def init(self, rng):\n",
        "    params = model.init_params(rng)\n",
        "    opt_state = self.server_optimizer.init_fn(params)\n",
        "    return FedAvgServerState(params, opt_state)\n",
        "\n",
        "  def run_one_round(self, server_state, client_ids):\n",
        "    client_outputs = []\n",
        "    for client_id in client_ids:\n",
        "      client_data = train.create_tf_dataset_for_client(client_id)\n",
        "      client_data = client_data.batch(self.client_batch_size)\n",
        "      client_data = client_data.as_numpy_iterator()\n",
        "      client_outputs.append(self.client_update(server_state, client_data))\n",
        "    return self.server_update(server_state, client_outputs)"
      ]
    },
    {
      "cell_type": "code",
      "execution_count": null,
      "metadata": {
        "executionInfo": {
          "elapsed": 139807,
          "status": "ok",
          "timestamp": 1616532444825,
          "user": {
            "displayName": "Ananda Theertha Suresh",
            "photoUrl": "https://lh3.googleusercontent.com/a-/AOh14Gg4ASQTNeiZMOUYQV5omqHOEMPHCXIdMIakUjAUaA=s64",
            "userId": "18398203347691939060"
          },
          "user_tz": 240
        },
        "id": "O5IHdAjEjOan",
        "outputId": "88f51029-58a4-4a1e-e63a-004009f9168c"
      },
      "outputs": [
        {
          "name": "stdout",
          "output_type": "stream",
          "text": [
            "round_num: 10, mean_round_duration: 1.5404976606369019 sec\n",
            "round_num: 20, mean_round_duration: 1.2664966583251953 sec\n",
            "round_num: 30, mean_round_duration: 1.2001190423965453 sec\n",
            "round_num: 40, mean_round_duration: 1.3763038158416747 sec\n",
            "round_num: 50, mean_round_duration: 1.2956710577011108 sec\n",
            "round_num: 60, mean_round_duration: 1.456064510345459 sec\n",
            "round_num: 70, mean_round_duration: 1.555745792388916 sec\n",
            "round_num: 80, mean_round_duration: 1.5312033414840698 sec\n",
            "round_num: 90, mean_round_duration: 1.372782826423645 sec\n",
            "round_num: 100, mean_round_duration: 1.3656875371932984 sec\n"
          ]
        }
      ],
      "source": [
        "# Run federated algorithm.\n",
        "num_rounds = 100\n",
        "num_clients_per_round = 10\n",
        "rng=0\n",
        "client_batch_size=10\n",
        "client_optimizer = fedjax.get_optimizer(fedjax.OptimizerName.SGD,\n",
        "                                        learning_rate=0.1)\n",
        "server_optimizer = fedjax.get_optimizer(fedjax.OptimizerName.SGD,\n",
        "                                        learning_rate=1.0)\n",
        "\n",
        "algorithm = SimpleFedAvg(model, client_optimizer,\n",
        "                         server_optimizer, client_batch_size)\n",
        "start = time.time()\n",
        "server_state = algorithm.init(rng)\n",
        "np.random.seed(0)\n",
        "for round_num in range(1, num_rounds + 1):\n",
        "  client_ids = np.random.choice(train.client_ids, \n",
        "                                size=num_clients_per_round,\n",
        "                                replace=False)\n",
        "  server_state = algorithm.run_one_round(server_state, client_ids)\n",
        "  if round_num % 10 == 0:\n",
        "    print('round_num: {}, mean_round_duration: {} sec'.format(\n",
        "        round_num, (time.time() - start)/10))\n",
        "    start = time.time() \n",
        "global_params = server_state.params"
      ]
    },
    {
      "cell_type": "code",
      "execution_count": null,
      "metadata": {
        "executionInfo": {
          "elapsed": 91322,
          "status": "ok",
          "timestamp": 1616531238882,
          "user": {
            "displayName": "Ananda Theertha Suresh",
            "photoUrl": "https://lh3.googleusercontent.com/a-/AOh14Gg4ASQTNeiZMOUYQV5omqHOEMPHCXIdMIakUjAUaA=s64",
            "userId": "18398203347691939060"
          },
          "user_tz": 240
        },
        "id": "9kUWONxJo7ie",
        "outputId": "a7447a58-68ea-46a8-c78e-c99d6663dc95"
      },
      "outputs": [
        {
          "name": "stdout",
          "output_type": "stream",
          "text": [
            "loss             0.672414\n",
            "regularizer      0.000000\n",
            "num_examples    22.789118\n",
            "accuracy         0.781258\n",
            "dtype: float64\n"
          ]
        }
      ],
      "source": [
        "# Evaluate the global model\n",
        "hparams = fedjax.ClientDataHParams(batch_size=10, num_epochs=1) \n",
        "all_metrics = fedjax.evaluate_multiple_clients(federated_data=test, \n",
        "                                               client_ids=test.client_ids,\n",
        "                                               model=model,\n",
        "                                               params=global_params,\n",
        "                                               client_data_hparams=hparams)\n",
        "all_metrics = list(all_metrics)\n",
        "print(pd.DataFrame.from_records(all_metrics).mean())\n"
      ]
    },
    {
      "cell_type": "code",
      "execution_count": null,
      "metadata": {
        "executionInfo": {
          "elapsed": 262178,
          "status": "ok",
          "timestamp": 1616534683936,
          "user": {
            "displayName": "Ananda Theertha Suresh",
            "photoUrl": "https://lh3.googleusercontent.com/a-/AOh14Gg4ASQTNeiZMOUYQV5omqHOEMPHCXIdMIakUjAUaA=s64",
            "userId": "18398203347691939060"
          },
          "user_tz": 240
        },
        "id": "pD3uDHY3iba4",
        "outputId": "2084f7e6-563d-4272-c5e8-6d534b037ae7"
      },
      "outputs": [
        {
          "name": "stdout",
          "output_type": "stream",
          "text": [
            "mean_round_duration: 2.619892497062683 sec.\n"
          ]
        }
      ],
      "source": [
        "# Finetune the model and evaluate before and after finetuning.\n",
        "\n",
        "finetune_batch_size=10\n",
        "client_optimizer = fedjax.get_optimizer(fedjax.OptimizerName.SGD,\n",
        "                                        learning_rate=0.1)\n",
        "global_metrics = {}\n",
        "finetune_metrics = {}\n",
        "start = time.time()\n",
        "num_clients = 1000\n",
        "for client_id in train.client_ids[0:num_clients]:\n",
        "  # Finetune algorithm.\n",
        "  params = global_params\n",
        "  client_train_data = train.create_tf_dataset_for_client(\n",
        "      client_id).batch(finetune_batch_size).as_numpy_iterator()\n",
        "  rng_seq = fedjax.PRNGSequence(0)\n",
        "  opt_state = client_optimizer.init_fn(params)\n",
        "  for batch, rng in zip(client_train_data, rng_seq):\n",
        "      backward_pass_output = model.backward_pass(params, batch, rng)\n",
        "      grads = backward_pass_output.grads\n",
        "      updates, opt_state = client_optimizer.update_fn(grads, opt_state)\n",
        "      params = client_optimizer.apply_updates(updates, params)\n",
        "\n",
        "  # train and test evaluations.\n",
        "  client_test_tf_data = test.create_tf_dataset_for_client(client_id)\n",
        "  global_metrics[client_id] = fedjax.evaluate_single_client(\n",
        "      client_test_tf_data.batch(16), model, global_params)\n",
        "  finetune_metrics[client_id] = fedjax.evaluate_single_client(\n",
        "      client_test_tf_data.batch(16), model, params)\n",
        "\n",
        "print('mean_personalization_duration: {} sec.'.format(\n",
        "    (time.time() - start)/num_clients))\n"
      ]
    },
    {
      "cell_type": "code",
      "execution_count": null,
      "metadata": {
        "colab": {
          "height": 468
        },
        "executionInfo": {
          "elapsed": 1330,
          "status": "ok",
          "timestamp": 1616534726740,
          "user": {
            "displayName": "Ananda Theertha Suresh",
            "photoUrl": "https://lh3.googleusercontent.com/a-/AOh14Gg4ASQTNeiZMOUYQV5omqHOEMPHCXIdMIakUjAUaA=s64",
            "userId": "18398203347691939060"
          },
          "user_tz": 240
        },
        "id": "pn-dApgcoE_5",
        "outputId": "e3131ee3-6353-4a68-906a-cab6a13dd391"
      },
      "outputs": [
        {
          "name": "stdout",
          "output_type": "stream",
          "text": [
            "Global metrics loss             0.731022\n",
            "regularizer      0.000000\n",
            "num_examples    33.029000\n",
            "accuracy         0.773308\n",
            "dtype: float64\n",
            "Finetune metrics loss             0.736051\n",
            "regularizer      0.000000\n",
            "num_examples    33.029000\n",
            "accuracy         0.798090\n",
            "dtype: float64\n"
          ]
        },
        {
          "data": {
            "text/plain": [
              "Text(0, 0.5, 'finetune_accuracy')"
            ]
          },
          "execution_count": 89,
          "metadata": {
            "tags": []
          },
          "output_type": "execute_result"
        },
        {
          "data": {
            "image/png": "[encoded data removed]",
            "text/plain": [
              "\u003cFigure size 600x400 with 1 Axes\u003e"
            ]
          },
          "metadata": {
            "tags": []
          },
          "output_type": "display_data"
        }
      ],
      "source": [
        "# Compute aggregate metrics and plot accuracies.\n",
        "print(\"Global metrics\", pd.DataFrame.from_records(\n",
        "    list(global_metrics.values())).mean())\n",
        "print(\"Finetune metrics\", pd.DataFrame.from_records(list(\n",
        "    finetune_metrics.values())).mean())\n",
        "\n",
        "global_accuracy = [metric['accuracy'] \n",
        "                   for metric in list(global_metrics.values())]\n",
        "finetune_accuracy = [metric['accuracy'] \n",
        "                     for metric in list(finetune_metrics.values())]\n",
        "plt.scatter(global_accuracy, finetune_accuracy)\n",
        "plt.xlabel('global_accuracy')\n",
        "plt.ylabel('finetune_accuracy')"
      ]
    }
  ],
  "metadata": {
    "colab": {
      "collapsed_sections": [],
      "last_runtime": {
        "build_target": "//learning/deepmind/public/tools/ml_python:ml_notebook",
        "kind": "private"
      },
      "name": "emnist-p13n.ipynb",
      "provenance": [
        {
          "file_id": "1UhglgvY6rQOPGQQPIL7aJRQ5wXndCrWt",
          "timestamp": 1617290897629
        },
        {
          "file_id": "1p7KiuZnXC3KOeJW_ArP-cTzpax0IBBFZ",
          "timestamp": 1616023981580
        }
      ]
    },
    "kernelspec": {
      "display_name": "Python 3",
      "name": "python3"
    }
  },
  "nbformat": 4,
  "nbformat_minor": 0
}
